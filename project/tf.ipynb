{
 "cells": [
  {
   "cell_type": "markdown",
   "metadata": {},
   "source": [
    "### Step 1. TF list"
   ]
  },
  {
   "cell_type": "markdown",
   "metadata": {},
   "source": [
    "There are 5 main steps to get the TF list:\n",
    ">*(1) Tokenize the pages into individual strings\n",
    "<br>*(2) Remove all punctuation from your list of tokens\n",
    "<br>*(3) Set everything to lower case\n",
    "<br>*(4) (Optional) Lemmatize your words\n",
    "<br>(5) Create TF list for Harry Potter Universe"
   ]
  },
  {
   "cell_type": "code",
   "execution_count": 7,
   "metadata": {},
   "outputs": [],
   "source": [
    "from nltk.tokenize import word_tokenize\n",
    "from tqdm import tqdm\n",
    "import os\n",
    "import nltk\n",
    "\n",
    "def tf_list_generate(data_folder):\n",
    "    # the list we used for store the wiki page text\n",
    "    wikipages = []\n",
    "    txt_files = os.listdir(data_folder)\n",
    "    for f in txt_files:\n",
    "        file_path = os.path.join(data_folder,f)\n",
    "        try:\n",
    "            with open(file_path,encoding='utf-8') as f:\n",
    "                text = f.read()\n",
    "            wikipages.append(text)\n",
    "        except:\n",
    "            pass\n",
    "        \n",
    "    # 1. Tokenize the pages into individual strings\n",
    "    tokenize = []\n",
    "    for text in tqdm(wikipages):\n",
    "        tokenize.extend(word_tokenize(text))\n",
    "    \n",
    "    # 2. Remove all punctuation from your list of tokens\n",
    "    tokenize_nopunc = [w for w in tokenize if w.isalpha()]\n",
    "\n",
    "    # 3. Set everything to lower case\n",
    "    tokenize_nopunc_lower = [w.lower() for w in tokenize_nopunc]\n",
    "    \n",
    "    # 4. (Optional) Lemmatize your words\n",
    "    porter = nltk.PorterStemmer()\n",
    "    tokenize_nopunc_lower_lemmatize = [porter.stem(w) for w in tokenize_nopunc_lower]\n",
    "    \n",
    "    #  5. Create your TF list for dc universe.\n",
    "    tf_list = nltk.FreqDist(tokenize_nopunc_lower_lemmatize)\n",
    "    \n",
    "    return tf_list"
   ]
  },
  {
   "cell_type": "markdown",
   "metadata": {},
   "source": [
    "**Get the tf-list for Marvel and DC Universe**"
   ]
  },
  {
   "cell_type": "code",
   "execution_count": 8,
   "metadata": {},
   "outputs": [
    {
     "name": "stderr",
     "output_type": "stream",
     "text": [
      "100%|██████████| 3775/3775 [00:51<00:00, 72.68it/s] \n"
     ]
    }
   ],
   "source": [
    "data_folder = '/Users/zhengqing/desktop/02805-group-assignment/project/node_clean'\n",
    "hp_tf_list = tf_list_generate(data_folder)"
   ]
  },
  {
   "cell_type": "code",
   "execution_count": null,
   "metadata": {},
   "outputs": [],
   "source": []
  }
 ],
 "metadata": {
  "kernelspec": {
   "display_name": "Python 3",
   "language": "python",
   "name": "python3"
  },
  "language_info": {
   "codemirror_mode": {
    "name": "ipython",
    "version": 3
   },
   "file_extension": ".py",
   "mimetype": "text/x-python",
   "name": "python",
   "nbconvert_exporter": "python",
   "pygments_lexer": "ipython3",
   "version": "3.8.3"
  }
 },
 "nbformat": 4,
 "nbformat_minor": 4
}
