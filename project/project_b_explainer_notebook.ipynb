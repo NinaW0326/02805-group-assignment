{
 "cells": [
  {
   "cell_type": "markdown",
   "metadata": {},
   "source": [
    "# Explainer Notebook for Harry Potter Network Analysis\n",
    "\n",
    "This explainer notebook contains the code and detailed analysis about our work on Harry Potter network.   \n",
    "The webside for presenting our work is here(<font color=red>the link</font>).\n",
    "\n",
    "<font color=red>Maybe some more general information here</font>\n",
    "    "
   ]
  },
  {
   "cell_type": "markdown",
   "metadata": {},
   "source": [
    "### 1. Motivation \n",
    "<!--\n",
    "* What is your dataset?\n",
    "* Why did you choose this/these particular dataset(s)?\n",
    "* What was your goal for the end user's experience?\n",
    "-->\n",
    "\n",
    "#### Harry Potter Network Dataset\n",
    "\n",
    "Our dataset is the characters from Harry Potter Novel, including character relationships, character attributes, characer stories.\n",
    "We got the dataset using API from Fandom pages. Also, J.K rolling’s books will be used as our data source as well.    \n",
    "<font color=orange>(not enough, we build this dataset by blabla, what source we use, how we get things done. \n",
    "simple discrption of the dataset , includeing: amount of nodes, edges, size of files.\n",
    "the strength(big, contains lots of characters) ;  node attributes\n",
    "some limitations: the potential problems of this dataset)</font>\n",
    "\n",
    "#### Why we choose this dataset?\n",
    "\n",
    "**First of all**, this dataset has a very complete structure of character relations, which is a perfct material for social network analysis.\n",
    "**Moreover**, there are some particularly interesting studies of the relationship between universes, such as those between wizards and Muggles (non-wizards), from which we hope to derive the new X-degree of separation for whole universe.\n",
    "**Also**, the division of the four major colleges systems within the Hogwarts also caught our attention, and we wanted to find the attributes and patterns so that everyone could know which house they were assigned to.\n",
    "**Finally**, the Harry Potter novel accompanies almost everyone's childhood, most of people are very familiar with the characters and stories, hence, it will be easier to understand the outcomes of our exploration. And it would be exciting to explore new discoveries from familiar stories and relationships.\n",
    "\n",
    "<font color=orange>需要更有逻辑，现在这个非常散，这个可以做完后面的再来写</font>\n",
    "\n",
    "\n",
    "#### Our goal for end user's experience\n",
    "\n",
    "**Through our project, we hope that users will be able to:**\n",
    "\n",
    "View the social network structure of the characters.\n",
    "Get the basic statistics of the social network, such as how many characters involved (nodes), how many relationships they have (links) and so on.\n",
    "Understand the social network node attributes and corresponding social network structures (For instance: Four colleges; Muggle world& Wizarding World, Dark magic& Good Wizard).\n",
    "Follow the community detection of the social network (four colleges in Hogwarts) and be able to see how the generated community detections differs from the original allocation result.\n",
    "Know the keywords for each community.\n",
    "From clustering the sentiment detection/analysis of the characters, understand the general emotional tone of the characters in the book.\n",
    "\n",
    "\n",
    "**As for the rendering part of the web page (more technical), we hope that we could:**\n",
    "\n",
    "Implement partitioning of content\n",
    "Interactive the visualization of social networks(for instance, zoom in and zoom out,etc)\n",
    "Implement machine learning and data interaction: Predicting which college the character belongs to\n",
    "Implement data interaction: give a character and the 10 most relevant characters; Or give the soical network associated with the character\n",
    "\n",
    "<font color=orange>这块是我之前列大纲的时候写的，如果写在这里需要展开+流畅，小点读不太通，没有前因后果</font>\n"
   ]
  },
  {
   "cell_type": "markdown",
   "metadata": {},
   "source": [
    "### 2. Basic stats\n",
    "<!--\n",
    "* Write about your choices in data cleaning and preprocessing\n",
    "* Write a short section that discusses the dataset stats (here you can recycle the work you did for Project Assignment A)\n",
    "-->\n",
    "\n",
    "<这一块nina整理>\n",
    "\n",
    "#### 2.1 data cleaning and preprocessing\n",
    "\n",
    "<font color=orange>这块还是需要注意 **解释**(*每一步: 为什么这么做，具体怎么做的，分析结果*)， 代码保留需要的即可，不要大段打印。</font>\n",
    "\n",
    "<font color=tomato>(a) **cleaning the node.**  \n",
    "    the ceritions; (清理原则123，顺便这里可以提一嘴是怎么收集数据的所以需要这样子的清理。)  \n",
    "    the amount of nodes after cleaning.  \n",
    "    (b) **cleaning the fandom page**\n",
    "    掐头去尾+去掉html格式；   \n",
    "    原因;    \n",
    "    具体步骤；  \n",
    "    得到的具体的东西（描述即可不需展示）   \n",
    "    (c) **书籍的cleaning**\n",
    "    为什么要这么做；  \n",
    "    具体步骤；得到的具体的东西（描述即可不需展示）</font>\n",
    "    \n",
    "    \n",
    "    \n",
    "#### 2.2 basic statiatic of our dataset\n",
    "\n",
    "\n",
    "<font color=tomato>   \n",
    "node数量， edge数量，       \n",
    "    degree分布（注意log-log图+ 分析） ；   \n",
    "      \\gama值；  \n",
    "    （还有啥能做的不知道了需要再翻翻network science,反正就是能反应网络特性的一些东西）    \n",
    "   然后记得加分析\n",
    "\n",
    "</font>\n"
   ]
  },
  {
   "cell_type": "markdown",
   "metadata": {},
   "source": [
    "### 3. Tools, theory and analysis. \n",
    "<!--\n",
    "* Talk about how you've worked with text, including regular expressions, unicode, etc.\n",
    "* Describe which network science tools and data analysis strategies you've used, how those network science measures work, and why the tools you've chosen are right for the problem you're solving.\n",
    "* How did you use the tools to understand your dataset?\n",
    "-->\n",
    "\n",
    "(写得再流畅一点，承上启下那种，逻辑再好点，现在瞎写的)\n",
    "The questions that we interested about this dataset is：\n",
    "1. 麻瓜世界与魔法世界的联系。\n",
    "哈利波特的故事里除了无比强大的巫师们，还有不懂魔法的麻瓜们。对于大多数麻瓜们来说，他们是不知道有魔法世界的存在的，但是麻瓜和魔法世界又有着不可分割的关系。我们想知道：麻瓜世界和魔法世界的是如何连接的？是否有一些关键的结点？两个世界的大小，属性如何？是否有类似于six degree of separation的定律存在于魔法、麻瓜世界 已经两个世界中？ \n",
    "\n",
    "2. 四个学院的特征属性。\n",
    "霍格沃兹有四个学院，在新生入学时，分院帽会将新生分到四个学院中的一个。根据JK罗琳对魔法世界的设定，分院帽会按照学生的特质进行分院——也就是说，每个学院应有自己特有的一些特征。比如，广泛认为，格兰芬多热情勇敢果决。我们想知道通过对fandom页面的文本分析+书的文本分析，来提取每个学院的关键词，得到其属性。\n",
    "\n",
    "3. 哈利波特世界中人物的情感分析。\n",
    "作为一个儿童读物，哈利波特中的人物具有鲜明的性格特点和感情倾向，我们很好奇，哪些人物更积极、开心；而哪些人物更加的阴郁、低落？同时我们也相对四个学院的社区进行这样的检测。\n",
    "\n",
    "4. 利用文本信息的社区检测。\n",
    "在社区检测方法中，权重值一直被我们所忽略。事实上，在人物A和B，C均认识的情况下，他们之间的关系紧密的强弱并不相同。我们利用文本信息，设计两个节点之间边的权重，再进行社区检测算法。我们将此算法应用在霍格沃兹学院内，讲通过算法产生的分隔与分院帽的结果进行对比，分析之间的不同并探索how smart the sorting hat is.\n",
    "\n",
    "5. 预测分院结果。\n",
    "输入一段文字描述，你将会被分到哪一个学院呢？我们希望可以将之前在网络中学习到知识与ML相结合，让哈迷们体验一下自己与哪个学院的特质更相近。"
   ]
  },
  {
   "cell_type": "markdown",
   "metadata": {},
   "source": [
    "#### 3.1 The connection between magic universe and muggle universe\n",
    "\n",
    "(解释这个问题，问题的有趣性，我们想要探索的内容blabla)  \n",
    "\n",
    "(子网络的大小属性)\n",
    "\n",
    "(子网络的连接关系，有无关键节点，是什么，分析)\n",
    "\n",
    "(six degree of separation定律的验证和分析)\n",
    "\n",
    "注意分析解释，想想对面是一个不知道哈利波特的人！"
   ]
  },
  {
   "cell_type": "markdown",
   "metadata": {},
   "source": [
    "#### 3.2  The most representative words for each house in Hogwarts\n",
    "\n",
    "问题描述。  \n",
    "\n",
    "如何获取学院属性。  子网络大小。   \n",
    "\n",
    "文本分析的具体步骤。\n",
    "\n",
    "结果分析。与JK罗琳的设定进行对比。\n"
   ]
  },
  {
   "cell_type": "markdown",
   "metadata": {},
   "source": [
    "#### 3.3 Sentiment anslysis for characters/houses in Harry Potter network\n",
    "\n",
    "问题描述。\n",
    "\n",
    "具体步骤。\n",
    "\n",
    "结果分析。\n",
    "\n",
    "对学院的情感分析，分析结果。"
   ]
  },
  {
   "cell_type": "markdown",
   "metadata": {},
   "source": [
    "#### 3.4 Community detection using text informaion\n",
    "\n",
    "问题描述。（为什么要这么做要讲清楚）\n",
    "\n",
    "具体步骤：  \n",
    "提取文本向量： 具体怎么做的；\n",
    "相似度：公式；\n",
    "生成权重；\n",
    "社区检测（具体算法以及算法如何运行的）\n",
    "\n",
    "结果分析。与分院帽结果对比。分析分析分析。"
   ]
  },
  {
   "cell_type": "markdown",
   "metadata": {},
   "source": [
    "#### 3.5 Prediction your house with description test\n",
    "\n",
    "问题描述。（为什么研究这个 有什么意义）\n",
    "\n",
    "具体步骤。\n",
    "\n",
    "结果分析。"
   ]
  },
  {
   "cell_type": "markdown",
   "metadata": {},
   "source": [
    "### 4. Discussion\n",
    "<!--\n",
    "* What went well?,\n",
    "* What is still missing? What could be improved?, Why?\n",
    "-->\n",
    "\n",
    "#### 4.1 Summary on our result\n",
    "\n",
    "其实我不知道这边还能讲啥。一般discussion可能会说一些延伸的东西。\n",
    "\n",
    "\n",
    "\n",
    "#### 4.2 Problems and possible improvement\n",
    "\n",
    "潜在的问题以及可能的解决办法。未来的方向。"
   ]
  },
  {
   "cell_type": "code",
   "execution_count": null,
   "metadata": {},
   "outputs": [],
   "source": []
  }
 ],
 "metadata": {
  "kernelspec": {
   "display_name": "Python 3",
   "language": "python",
   "name": "python3"
  },
  "language_info": {
   "codemirror_mode": {
    "name": "ipython",
    "version": 3
   },
   "file_extension": ".py",
   "mimetype": "text/x-python",
   "name": "python",
   "nbconvert_exporter": "python",
   "pygments_lexer": "ipython3",
   "version": "3.7.3"
  }
 },
 "nbformat": 4,
 "nbformat_minor": 4
}
