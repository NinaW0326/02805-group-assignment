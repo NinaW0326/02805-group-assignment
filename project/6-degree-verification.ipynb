{
 "cells": [
  {
   "cell_type": "code",
   "execution_count": 33,
   "metadata": {},
   "outputs": [],
   "source": [
    "import json\n",
    "import networkx as nx\n",
    "from tqdm import tqdm"
   ]
  },
  {
   "cell_type": "markdown",
   "metadata": {},
   "source": [
    "### 1. read in data and contruct the network"
   ]
  },
  {
   "cell_type": "code",
   "execution_count": 3,
   "metadata": {},
   "outputs": [
    {
     "name": "stdout",
     "output_type": "stream",
     "text": [
      "number of nodes in network:3706\n",
      "number of links in network:16559\n"
     ]
    }
   ],
   "source": [
    "\n",
    "nodes_edges_json_file = './data/nodes_egdes_new.json'\n",
    "with open(nodes_edges_json_file,'r') as f:\n",
    "    node_edges = json.load(f)\n",
    "\n",
    "# bulid the network from data \n",
    "G = nx.DiGraph()\n",
    "\n",
    "# add nodes    \n",
    "G.add_nodes_from(node_edges.keys())\n",
    "\n",
    "# add links\n",
    "for each in node_edges:\n",
    "    for link in node_edges[each]:\n",
    "        G.add_edge(each,link)\n",
    "\n",
    "print('number of nodes in network:{}'.format(len(G.nodes())))\n",
    "print('number of links in network:{}'.format(len(G.edges())))"
   ]
  },
  {
   "cell_type": "markdown",
   "metadata": {},
   "source": [
    "### 2. get the GCC"
   ]
  },
  {
   "cell_type": "code",
   "execution_count": 5,
   "metadata": {},
   "outputs": [],
   "source": [
    "G_undirected = G.to_undirected()"
   ]
  },
  {
   "cell_type": "code",
   "execution_count": 7,
   "metadata": {},
   "outputs": [],
   "source": [
    "Gcc = sorted(nx.connected_components(G_undirected), key=len, reverse=True)\n",
    "G0 = G_undirected.subgraph(Gcc[0])"
   ]
  },
  {
   "cell_type": "code",
   "execution_count": 9,
   "metadata": {},
   "outputs": [
    {
     "name": "stdout",
     "output_type": "stream",
     "text": [
      "2529\n",
      "12078\n"
     ]
    }
   ],
   "source": [
    "print(len(G0.nodes()))\n",
    "print(len(G0.edges()))"
   ]
  },
  {
   "cell_type": "markdown",
   "metadata": {},
   "source": [
    "### 3. avg. shortest path and the max distance of G0"
   ]
  },
  {
   "cell_type": "code",
   "execution_count": 10,
   "metadata": {},
   "outputs": [
    {
     "name": "stdout",
     "output_type": "stream",
     "text": [
      "3.478581680355972\n"
     ]
    }
   ],
   "source": [
    "avg_shortest_path = nx.average_shortest_path_length(G0)\n",
    "print(avg_shortest_path)"
   ]
  },
  {
   "cell_type": "code",
   "execution_count": 42,
   "metadata": {},
   "outputs": [],
   "source": [
    "paths_len = nx.all_pairs_shortest_path_length(G0)"
   ]
  },
  {
   "cell_type": "code",
   "execution_count": 43,
   "metadata": {},
   "outputs": [
    {
     "name": "stderr",
     "output_type": "stream",
     "text": [
      "2529it [01:31, 27.65it/s]\n"
     ]
    }
   ],
   "source": [
    "max_distance = 0\n",
    "for node in tqdm(paths_len):\n",
    "    max_ = max(node[1].values())\n",
    "#     print(max_)\n",
    "    if max_ > max_distance:\n",
    "        max_distance = max_\n",
    "#     print(max_distance)"
   ]
  },
  {
   "cell_type": "code",
   "execution_count": 44,
   "metadata": {},
   "outputs": [
    {
     "data": {
      "text/plain": [
       "12"
      ]
     },
     "execution_count": 44,
     "metadata": {},
     "output_type": "execute_result"
    }
   ],
   "source": [
    "max_distance"
   ]
  },
  {
   "cell_type": "markdown",
   "metadata": {},
   "source": [
    "### 4. get some examples from our network"
   ]
  },
  {
   "cell_type": "code",
   "execution_count": 52,
   "metadata": {},
   "outputs": [],
   "source": [
    "paths = nx.all_pairs_shortest_path(G0)"
   ]
  },
  {
   "cell_type": "code",
   "execution_count": 47,
   "metadata": {},
   "outputs": [],
   "source": [
    "cha_1 = 'Miles_Bletchley' # the Slytherin Quidditch team - Keeper\n",
    "cha_2 = 'Ignatia_Wildsmith' #Ignatia Wildsmith (1227—1320) was a witch and wizarding inventor, who was famously the creator of Floo Powder. "
   ]
  },
  {
   "cell_type": "code",
   "execution_count": 53,
   "metadata": {},
   "outputs": [],
   "source": [
    "paths_dict = dict(paths)"
   ]
  },
  {
   "cell_type": "code",
   "execution_count": 55,
   "metadata": {},
   "outputs": [
    {
     "data": {
      "text/plain": [
       "['Miles_Bletchley',\n",
       " 'Severus_Snape',\n",
       " 'Helena_Ravenclaw',\n",
       " 'Robert_Hilliard',\n",
       " 'Ignatia_Wildsmith']"
      ]
     },
     "execution_count": 55,
     "metadata": {},
     "output_type": "execute_result"
    }
   ],
   "source": [
    "paths_dict[cha_1][cha_2]"
   ]
  },
  {
   "cell_type": "code",
   "execution_count": null,
   "metadata": {},
   "outputs": [],
   "source": []
  }
 ],
 "metadata": {
  "kernelspec": {
   "display_name": "Python 3",
   "language": "python",
   "name": "python3"
  },
  "language_info": {
   "codemirror_mode": {
    "name": "ipython",
    "version": 3
   },
   "file_extension": ".py",
   "mimetype": "text/x-python",
   "name": "python",
   "nbconvert_exporter": "python",
   "pygments_lexer": "ipython3",
   "version": "3.7.3"
  }
 },
 "nbformat": 4,
 "nbformat_minor": 4
}
