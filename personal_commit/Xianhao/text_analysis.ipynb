{
 "cells": [
  {
   "cell_type": "code",
   "execution_count": 1,
   "metadata": {},
   "outputs": [],
   "source": [
    "import numpy as np\n",
    "import pandas as pd"
   ]
  },
  {
   "cell_type": "code",
   "execution_count": 2,
   "metadata": {},
   "outputs": [
    {
     "data": {
      "text/plain": [
       "6350912"
      ]
     },
     "execution_count": 2,
     "metadata": {},
     "output_type": "execute_result"
    }
   ],
   "source": [
    "# read text from local\n",
    "book = open('book.txt').read()\n",
    "len(book)"
   ]
  },
  {
   "cell_type": "code",
   "execution_count": 3,
   "metadata": {},
   "outputs": [
    {
     "data": {
      "text/plain": [
       "2267437"
      ]
     },
     "execution_count": 3,
     "metadata": {},
     "output_type": "execute_result"
    }
   ],
   "source": [
    "# read characters json from local\n",
    "characters = open('nodes_egdes.json').read()\n",
    "len(characters)"
   ]
  },
  {
   "cell_type": "code",
   "execution_count": 4,
   "metadata": {},
   "outputs": [
    {
     "data": {
      "text/plain": [
       "4264"
      ]
     },
     "execution_count": 4,
     "metadata": {},
     "output_type": "execute_result"
    }
   ],
   "source": [
    "import json\n",
    "\n",
    "characters = json.loads(str(characters))\n",
    "characters = characters.keys()\n",
    "len(characters)"
   ]
  },
  {
   "cell_type": "code",
   "execution_count": 5,
   "metadata": {},
   "outputs": [
    {
     "name": "stdout",
     "output_type": "stream",
     "text": [
      "done!\n"
     ]
    }
   ],
   "source": [
    "character_list = list(characters)\n",
    "char_list = []\n",
    "for character in character_list:\n",
    "    char_list.append(character.lower().replace('_',' '))\n",
    "character_list = char_list\n",
    "print('done!')"
   ]
  },
  {
   "cell_type": "code",
   "execution_count": 6,
   "metadata": {},
   "outputs": [
    {
     "data": {
      "text/plain": [
       "73963"
      ]
     },
     "execution_count": 6,
     "metadata": {},
     "output_type": "execute_result"
    }
   ],
   "source": [
    "# assign the sentences to particular characters\n",
    "# 1. accoring to punctuations divide book to lists of sentences\n",
    "import re\n",
    "\n",
    "sentences_book = re.split(\"(?<=[.!?])\\s+\", book.lower()) \n",
    "len(sentences_book)"
   ]
  },
  {
   "cell_type": "code",
   "execution_count": 7,
   "metadata": {},
   "outputs": [
    {
     "data": {
      "text/plain": [
       "'or harold.'"
      ]
     },
     "execution_count": 7,
     "metadata": {},
     "output_type": "execute_result"
    }
   ],
   "source": [
    "sentences_book[90]"
   ]
  },
  {
   "cell_type": "code",
   "execution_count": 8,
   "metadata": {},
   "outputs": [
    {
     "name": "stdout",
     "output_type": "stream",
     "text": [
      "done!\n"
     ]
    }
   ],
   "source": [
    "import string\n",
    "import nltk\n",
    "from nltk.corpus import stopwords\n",
    "import nltk.stem\n",
    "\n",
    "s = nltk.stem.SnowballStemmer('english') \n",
    "\n",
    "for character in character_list:\n",
    "    try:\n",
    "        content = ''\n",
    "        for sentence in sentences_book:\n",
    "            if character in sentence:\n",
    "#                 sentence = sentence.translate(str.maketrans('', '', '\"#$%&\\()*+,-/:;<=>@[\\\\]^_`{|}~.!?')) # remove punctuations               \n",
    "#                 sentence = nltk.word_tokenize(sentence)  \n",
    "#                 sentence = [w for w in sentence if not w in stopwords.words('english')]                 # remove stopwords\n",
    "#                 sentence = [s.stem(ws) for ws in sentence]                                                # extract stem of words\n",
    "#                 sentence = (nltk.pos_tag(sentence))\n",
    "#                 string_sentence = ''\n",
    "#                 for word in sentence:\n",
    "#                     if(word[1] in ['JJ','JJR','JJS','RB','RBR','RBS','VB','VBD','VBG','VBN','VBP','WRB']):\n",
    "#                         string_sentence += word[0]+':'+word[1]+' '\n",
    "#                 sentence = ' '.join(sentence)\n",
    "                content += sentence+'\\n'\n",
    "        if len(content) != 0:\n",
    "            path = 'data\\{}.txt'.format(character)\n",
    "            f = open(path, 'a', encoding ='utf-8')\n",
    "            f.write(content)\n",
    "            f.close()\n",
    "    except: \n",
    "        pass\n",
    "        \n",
    "print('done!')"
   ]
  },
  {
   "cell_type": "code",
   "execution_count": 9,
   "metadata": {},
   "outputs": [],
   "source": [
    "# according to character name create txt for collecting all the related sentences we found. "
   ]
  }
 ],
 "metadata": {
  "kernelspec": {
   "display_name": "Python 3",
   "language": "python",
   "name": "python3"
  },
  "language_info": {
   "codemirror_mode": {
    "name": "ipython",
    "version": 3
   },
   "file_extension": ".py",
   "mimetype": "text/x-python",
   "name": "python",
   "nbconvert_exporter": "python",
   "pygments_lexer": "ipython3",
   "version": "3.7.6"
  }
 },
 "nbformat": 4,
 "nbformat_minor": 4
}
