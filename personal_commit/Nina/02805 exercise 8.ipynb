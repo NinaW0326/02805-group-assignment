{
 "cells": [
  {
   "cell_type": "markdown",
   "metadata": {},
   "source": [
    "# 02805 exercise 8\n",
    "## Part A2 - Sentiment analysis\n",
    "\n",
    "### Exercise 2: Sentiment within the communities data.\n",
    "It's still OK to work with data from a single universe, and - unlike above - we work all communities."
   ]
  },
  {
   "cell_type": "markdown",
   "metadata": {},
   "source": [
    "> Download the LabMT wordlist. It's available as supplementary material from Temporal Patterns of Happiness and Information in a Global Social Network: Hedonometrics and Twitter (Data Set S1). Describe briefly how the list was generated."
   ]
  },
  {
   "cell_type": "code",
   "execution_count": 1,
   "metadata": {},
   "outputs": [],
   "source": [
    "# the list is stored in the file path : './data/DataSetS1.txt'"
   ]
  },
  {
   "cell_type": "markdown",
   "metadata": {},
   "source": [
    "**Answer:**  \n",
    "1. **Get the unique words for evaluation**: the researcher use four disparate text sources: Twitter, Google Books (English), music lyrics (1960 to 2007), and the New York Times (1987 to 2007). Get the most frequent words in each corpus, then the researchers merged the top 5,000 words from each source, resulting in a composite set of 10,222 unique words.\n",
    "2. **Evaluate the sentiment level**: asked users on Mechanical Turk to rate how a given word made them feel on a nine point integer scale, obtaining 50 independent evaluations per word. (*maybe re-write it in our own words*) We broke the overall assignment into 100 smaller tasks of rating approximately 100 randomly assigned words at a time. We emphasized the scores 1, 3, 5, 7, and 9 by stylized faces, representing a sad to happy spectrum. Such five point scales are in widespread use on the web today (e.g., Amazon) and would likely be familiar with users. The four intermediate scores of 2, 4, 6, 8 allowed for fine tuning of assessments. \n",
    "3. **Notice that the researchers avoid stemming the words**"
   ]
  },
  {
   "cell_type": "markdown",
   "metadata": {},
   "source": [
    "> Based on the LabMT word list, write a function that calculates sentiment given a list of tokens (the tokens should be lower case, etc).\n",
    "\n",
    "**Answer:**  \n",
    "Use Equation (1) in paper [Temporal Patterns of Happiness and Information in a Global Social Network: Hedonometrics and Twitter](https://journals.plos.org/plosone/article?id=10.1371/journal.pone.0026752) to calculate the setiment score.\n",
    "$$h_{avg}(T) = \\frac{\\sum_{i=1}^N h_{avg}(w_i)f_i}{\\sum_{i=1}^N f_i}$$"
   ]
  },
  {
   "cell_type": "code",
   "execution_count": 17,
   "metadata": {},
   "outputs": [],
   "source": [
    "# # First, get the information from the DataSetS1 \n",
    "\n",
    "# # with dataframe, it is way too slow. So i change to dict again(i thought the dataframe might be more clear, but it is just too slow)\n",
    "# import numpy as np\n",
    "# import pandas as pd\n",
    "\n",
    "# LabMT_wordlist_path = './data/DataSetS1.txt'\n",
    "# line_cnt = 0\n",
    "\n",
    "# LabMT_word_df = pd.DataFrame(columns=['word', 'happiness_rank','happiness_average', 'happiness_standard_deviation',\\\n",
    "#                                       'twitter_rank', 'google_rank', 'nyt_rank', 'lyrics_rank'])\n",
    "\n",
    "# with open(LabMT_wordlist_path,'r') as f:\n",
    "#     line = f.readline()\n",
    "#     line_cnt +=1 \n",
    "    \n",
    "#     while line: \n",
    "        \n",
    "#         if line_cnt <=4: # the words start at the 5th line\n",
    "#             line = f.readline() \n",
    "#             line_cnt+= 1\n",
    "#             continue\n",
    "            \n",
    "#         content = line.split('\\t')\n",
    "#         word = content[0]\n",
    "#         happiness_rank = int(content[1])\n",
    "#         happiness_average = float(content[2])\n",
    "#         happiness_standard_deviation= float(content[3])\n",
    "        \n",
    "#         def get_rank_in_LabMT(string):\n",
    "#             if string=='--':\n",
    "#                 return np.nan\n",
    "#             else:\n",
    "#                 return int(string)\n",
    "        \n",
    "#         twitter_rank,google_rank,nyt_rank,lyrics_rank = get_rank_in_LabMT(content[4]),get_rank_in_LabMT(content[5]),\\\n",
    "#                                                         get_rank_in_LabMT(content[6]),get_rank_in_LabMT(content[7][:-1])\n",
    "        \n",
    "#         LabMT_word_df.append(pd.Series([word, happiness_rank,happiness_average, happiness_standard_deviation,\\\n",
    "#                                        twitter_rank,google_rank,nyt_rank,lyrics_rank], index=LabMT_word_df.columns ), ignore_index=True)\n",
    "#         line = f.readline() \n",
    "#         line_cnt+= 1\n",
    "# #         if line_cnt%100 == 0:\n",
    "# #             print(line_cnt)\n"
   ]
  },
  {
   "cell_type": "code",
   "execution_count": 18,
   "metadata": {},
   "outputs": [],
   "source": [
    "# First, get the information from the DataSetS1 \n",
    "# store the information into LabMT_word_dict\n",
    "import numpy as np\n",
    "\n",
    "LabMT_wordlist_path = './data/DataSetS1.txt'\n",
    "line_cnt = 0\n",
    "\n",
    "LabMT_word_dict = {}\n",
    "\n",
    "with open(LabMT_wordlist_path,'r') as f:\n",
    "    line = f.readline()\n",
    "    line_cnt +=1 \n",
    "    \n",
    "    while line: \n",
    "        if line_cnt <=4: # the words start at the 5th line\n",
    "            line = f.readline() \n",
    "            line_cnt+= 1\n",
    "            continue\n",
    "            \n",
    "        content = line.split('\\t')\n",
    "        word = content[0]\n",
    "        happiness_rank = int(content[1])\n",
    "        happiness_average = float(content[2])\n",
    "        happiness_standard_deviation= float(content[3])\n",
    "        \n",
    "        def get_rank_in_LabMT(string):\n",
    "            if string=='--':\n",
    "                return np.nan\n",
    "            else:\n",
    "                return int(string)\n",
    "        \n",
    "        twitter_rank,google_rank,nyt_rank,lyrics_rank = get_rank_in_LabMT(content[4]),get_rank_in_LabMT(content[5]),\\\n",
    "                                                        get_rank_in_LabMT(content[6]),get_rank_in_LabMT(content[7][:-1])\n",
    "        \n",
    "        infor_dict = {'happiness_rank':happiness_rank, 'happiness_average':happiness_average,\\\n",
    "                     'happiness_standard_deviation': happiness_standard_deviation,\\\n",
    "                     'twitter_rank':twitter_rank, 'google_rank':google_rank,\\\n",
    "                     'nyt_rank':nyt_rank, 'lyrics_rank':lyrics_rank}\n",
    "        \n",
    "        LabMT_word_dict[word] = infor_dict\n",
    "        \n",
    "        line = f.readline() \n",
    "        line_cnt+= 1\n"
   ]
  },
  {
   "cell_type": "code",
   "execution_count": 22,
   "metadata": {},
   "outputs": [],
   "source": [
    "import nltk\n",
    "\n",
    "def sentiment_calculator(list_of_token):\n",
    "    freqDict = nltk.FreqDist(list_of_token)\n",
    "    # filter freqDict, only leave the ones in the LabMT_wordlist\n",
    "    freqDict_filter = {k: v for k, v in freqDict.items() if k in LabMT_word_dict.keys()}\n",
    "    \n",
    "    sum_weight_freq = 0\n",
    "    for w in freqDict_filter.keys():\n",
    "        sum_weight_freq += freqDict_filter[w]*LabMT_word_dict[w]['happiness_average']\n",
    "    sum_all_freq = sum(freqDict_filter.values())\n",
    "    \n",
    "    return sum_weight_freq/sum_all_freq"
   ]
  },
  {
   "cell_type": "markdown",
   "metadata": {},
   "source": [
    "> Iterage over the nodes in your network, tokenize each page, and calculate sentiment every single page. Now you have sentiment as a new nodal property."
   ]
  },
  {
   "cell_type": "code",
   "execution_count": 25,
   "metadata": {},
   "outputs": [
    {
     "name": "stdout",
     "output_type": "stream",
     "text": [
      "number of nodes in network:2277\n",
      "number of links in network:33461\n",
      "number of node in Marvel universe:1238\n",
      "number of edge in Marvel universe:15850\n"
     ]
    }
   ],
   "source": [
    "# step0: get the marvel network first\n",
    "\n",
    "# get the name for file saving and reading\n",
    "def file_saving_reading_name(s):\n",
    "    s = s.replace(':','@')\n",
    "    s = s.replace('/','$')\n",
    "    return s\n",
    "\n",
    "# get the name with ':' and '/'\n",
    "def node_name(s):\n",
    "    s = s.replace('@',':')\n",
    "    s = s.replace('$','/')\n",
    "    return s\n",
    "\n",
    "# load the nodes and edges from pre-dumped json file\n",
    "import json\n",
    "file_path = './data/comics_cha.json'\n",
    "with open(file_path, 'r') as f:\n",
    "    data = json.load(f)\n",
    "    \n",
    "import networkx as nx\n",
    "\n",
    "# bulid the network from data \n",
    "G = nx.DiGraph()\n",
    "\n",
    "# get the attribute from comics_cha\n",
    "attr_dict = {}\n",
    "for each in data:\n",
    "    attr_dict[each] = data[each]['type']\n",
    "\n",
    "# add nodes    \n",
    "G.add_nodes_from(data.keys())\n",
    "# add attribute of type\n",
    "nx.set_node_attributes(G, attr_dict,'type')\n",
    "\n",
    "\n",
    "# add links\n",
    "for each in data:\n",
    "    for link in data[each]['edges']:\n",
    "        G.add_edge(each,link)\n",
    "        \n",
    "print('number of nodes in network:{}'.format(len(G.nodes())))\n",
    "print('number of links in network:{}'.format(len(G.edges())))\n",
    "\n",
    "# get the undirected version of the whole network\n",
    "G_undirect = G.to_undirected()\n",
    "\n",
    "# get the list of DC/Marvel characters\n",
    "dc_cha = []\n",
    "marvel_cha = []\n",
    "for node in G_undirect.nodes():\n",
    "    if nx.get_node_attributes(G_undirect,'type')[node] == 'Marvel':\n",
    "        marvel_cha.append(node)\n",
    "    else:\n",
    "        dc_cha.append(node)\n",
    "\n",
    "# get the subgraph from the list\n",
    "DC_network = G_undirect.subgraph(dc_cha)\n",
    "Marvel_network = G_undirect.subgraph(marvel_cha)\n",
    "\n",
    "print('number of node in Marvel universe:{}'.format(len(Marvel_network.nodes())))\n",
    "print('number of edge in Marvel universe:{}'.format(len(Marvel_network.edges())))"
   ]
  },
  {
   "cell_type": "code",
   "execution_count": 31,
   "metadata": {},
   "outputs": [],
   "source": [
    "# step1: get the text from each node and tranform the text into list of token\n",
    "\n",
    "\n",
    "# define the funtion to generate the raw word text(with punctuation marks) from a raw_text\n",
    "from nltk.tokenize import word_tokenize\n",
    "import nltk\n",
    "porter = nltk.PorterStemmer()\n",
    "\n",
    "# get the list of token from raw text\n",
    "def get_word_list(raw_text):\n",
    "    token = word_tokenize(raw_text)\n",
    "    # PROBLEM HERE (just wanna to remove \\n with an easier way)\n",
    "#     pattern =  r'[a-zA-Z0-9\\-]+'\n",
    "#     tokenize_nopunc = []\n",
    "#     for w in token:   \n",
    "#         tokenize_nopunc.extend(re.findall(pattern,w))\n",
    "    tokenize_nopunc= [w for w in token if w.isalpha()]\n",
    "    tokenize_nopunc_lower = [w.lower() for w in tokenize_nopunc]\n",
    "#     tokenize_nopunc_lower_lemmatize = [porter.stem(w) for w in tokenize_nopunc_lower]\n",
    "    tokenize_nopunc_lower_lemmatize = tokenize_nopunc_lower # no stemming\n",
    "    return tokenize_nopunc_lower_lemmatize"
   ]
  },
  {
   "cell_type": "code",
   "execution_count": 33,
   "metadata": {},
   "outputs": [
    {
     "name": "stderr",
     "output_type": "stream",
     "text": [
      "100%|██████████████████████████████████████████████████████████████████████████████| 1238/1238 [00:53<00:00, 23.18it/s]\n"
     ]
    }
   ],
   "source": [
    "# step2: get the sentiment score and store it as a dict\n",
    "sentiment_dict = {}\n",
    "import os\n",
    "from tqdm import tqdm\n",
    "data_folder = './data/marvel/'\n",
    "\n",
    "for node_name in tqdm(Marvel_network.nodes()):\n",
    "    # get the json file\n",
    "    file_path = os.path.join(data_folder,file_saving_reading_name(node_name)+'.json')\n",
    "    # get the raw text \n",
    "    with open(file_path,'r') as f:\n",
    "        raw_text = json.load(f)\n",
    "    # get the list of token from raw text\n",
    "    list_of_token = get_word_list(raw_text)\n",
    "    sentiment_score = sentiment_calculator(list_of_token)\n",
    "    sentiment_dict[node_name] = sentiment_score"
   ]
  },
  {
   "cell_type": "code",
   "execution_count": 35,
   "metadata": {},
   "outputs": [],
   "source": [
    "# step3: add the attribute to the network\n",
    "nx.set_node_attributes(Marvel_network, sentiment_dict,'sentiment')"
   ]
  },
  {
   "cell_type": "markdown",
   "metadata": {},
   "source": [
    "> Remember histograms? Create a histogram of all character's associated page-sentiments.\n"
   ]
  },
  {
   "cell_type": "code",
   "execution_count": 46,
   "metadata": {},
   "outputs": [
    {
     "data": {
      "image/png": "[encoded data removed]",
      "text/plain": [
       "<Figure size 720x360 with 1 Axes>"
      ]
     },
     "metadata": {
      "needs_background": "light"
     },
     "output_type": "display_data"
    }
   ],
   "source": [
    "import matplotlib.pyplot as plt\n",
    "\n",
    "plt.figure(figsize=(10,5))\n",
    "plt.hist(sentiment_dict.values(),bins=35,color='olive',alpha=0.6,edgecolor='k')\n",
    "plt.xlabel('sentiment score')\n",
    "plt.ylabel('count')\n",
    "plt.title('Histogram of All Characters\\' Associated Page-sentiments')\n",
    "plt.show()"
   ]
  },
  {
   "cell_type": "markdown",
   "metadata": {},
   "source": [
    "**Answer:**  \n",
    "Considering that the score is ranged from 1 to 9 , the wikipedia pages, just as Sune said in the video, are quite neutral in sentiment. All character's associated page sentiment are ranged in (5,6), and the median is around 5.4. "
   ]
  },
  {
   "cell_type": "markdown",
   "metadata": {},
   "source": [
    "> What are the 10 characters with happiest and saddest pages?"
   ]
  },
  {
   "cell_type": "code",
   "execution_count": 53,
   "metadata": {},
   "outputs": [
    {
     "name": "stdout",
     "output_type": "stream",
     "text": [
      "the top 10 most happiest character in Marvel Universe:\n",
      "[('Free_Spirit_(comics)', 5.76709677419355), ('Super_Rabbit', 5.711050656660413), ('Honey_Lemon', 5.667034883720931), ('Lorna_the_Jungle_Girl', 5.655985576923074), ('Father_Time_(Marvel_Comics)', 5.652517006802722), ('Jungle_Tales', 5.6342077922077936), ('Delilah_(comics)', 5.620652173913044), ('Blue_Diamond_(comics)', 5.6166266666666695), ('Sun_Girl_(Marvel_Comics)', 5.614274809160305), ('Nomad_(comics)', 5.602179836512265)]\n",
      "the top 10 most saddest character in Marvel Universe:\n",
      "[('Nightmare_(Marvel_Comics)', 5.1977833333333345), ('Razor_Fist', 5.196812596006143), ('Trash_(comics)', 5.193179723502306), ('Holocaust_(Marvel_Comics)', 5.187002985074619), ('Dark_Beast', 5.15330228948389), ('Hurricane_(comics)', 5.152398104265404), ('Death_(Marvel_Comics)', 5.151057579318442), ('Savage_Steel', 5.142008733624455), ('Death_Metal_(comics)', 5.119311740890688), ('Alternative_versions_of_Doctor_Strange', 5.093333333333334)]\n"
     ]
    }
   ],
   "source": [
    "# sorted sentiment_dict\n",
    "sentiment_dict_sorted = sorted(sentiment_dict.items(), key = lambda kv:kv[1], reverse=True)\n",
    "\n",
    "print('the top 10 most happiest character in Marvel Universe:\\n{}'.format(sentiment_dict_sorted[:10]))\n",
    "print('the top 10 most saddest character in Marvel Universe:\\n{}'.format(sentiment_dict_sorted[-10:]))"
   ]
  },
  {
   "cell_type": "markdown",
   "metadata": {},
   "source": [
    "> Now we average the average sentiment of the nodes in each community to find a community level sentiment."
   ]
  },
  {
   "cell_type": "markdown",
   "metadata": {},
   "source": [
    "> - Name each community by its three most connected characters."
   ]
  },
  {
   "cell_type": "code",
   "execution_count": 56,
   "metadata": {},
   "outputs": [],
   "source": [
    "# get the community infor\n",
    "commu_file = './data/partition.json'\n",
    "import json\n",
    "with open(commu_file,'r') as f:\n",
    "    partition = json.load(f)\n",
    "    \n",
    "\n",
    "# the dict format as {'community':[list of nodes in this community], ...}\n",
    "community_dict={}\n",
    "for node in partition.keys():\n",
    "    if partition[node] not in community_dict.keys():\n",
    "        community_dict[partition[node]] = [node]\n",
    "    else:\n",
    "        community_dict[partition[node]].append(node)"
   ]
  },
  {
   "cell_type": "code",
   "execution_count": 63,
   "metadata": {},
   "outputs": [],
   "source": [
    "# name the community by the three most connected characters\n",
    "for commu in community_dict.keys():\n",
    "    # get the sub network\n",
    "    subG = Marvel_network.subgraph(community_dict[commu])\n",
    "    # get the degree and sorted\n",
    "    d_sorted = sorted(subG.degree, key=lambda x: x[1], reverse=True)\n",
    "    \n",
    "    if len(subG.nodes()) >=3:\n",
    "        first3name = [n for (n,d) in d_sorted[:3]]\n",
    "    else: # if this community has less than 3 nodes\n",
    "        first3name = [n for (n,d) in d_sorted]\n",
    "    new_name = '+'.join(first3name)\n",
    "    community_dict[new_name] = community_dict.pop(commu)"
   ]
  },
  {
   "cell_type": "markdown",
   "metadata": {},
   "source": [
    "> (average the average sentiment of the nodes in each community to find a community level sentiment"
   ]
  },
  {
   "cell_type": "code",
   "execution_count": 76,
   "metadata": {},
   "outputs": [
    {
     "name": "stdout",
     "output_type": "stream",
     "text": [
      "the average sentiment in each community:\n",
      "\n",
      "Tenebrous_(Marvel_Comics):5.4629\n",
      "Terraformer_(comics):5.4542\n",
      "Tremolo_(comics):5.4508\n",
      "Wildstreak:5.3377\n",
      "Wing_(Marvel_Comics):5.4065\n",
      "Wipeout_(comics):5.3305\n",
      "Wraith:5.4999\n",
      "New_Warriors+Robbie_Baldwin+Rage_(comics):5.3815\n",
      "Thor_(Marvel_Comics)+Asgard_(comics)+Loki_(comics):5.3798\n",
      "Hulk+Doctor_Strange+Silver_Surfer:5.3747\n",
      "Achebe_(comics):5.4200\n",
      "Captain_America+Iron_Man+Fantastic_Four:5.3889\n",
      "Wolverine_(character)+Professor_X+Cyclops_(Marvel_Comics):5.3706\n",
      "Alternative_versions_of_Doctor_Strange:5.0933\n",
      "Spider-Man+Doctor_Octopus+Daredevil_(Marvel_Comics_character):5.3489\n",
      "Sasquatch_(comics)+Vindicator_(comics)+Shaman_(comics):5.3894\n",
      "Bela_(comics):5.4731\n",
      "Outlaw_Kid+Rawhide_Kid+Kid_Colt:5.4937\n",
      "Kiber_the_Cruel:5.2289\n",
      "Kraken_(Marvel_Comics):5.4169\n",
      "Locust_(comics):5.4420\n",
      "Ludi_(comics):5.3956\n",
      "Lurking_Unknown:5.2277\n",
      "N'Garai:5.3248\n",
      "Nightside_(comics):5.4383\n",
      "Numinus:5.3902\n",
      "Orator_(comics):5.4221\n",
      "Otomo_(comics):5.4407\n",
      "Pasco_(comics):5.4321\n",
      "Paulie_Provenzano:5.3649\n",
      "Professor_Thornton:5.3921\n",
      "Psi-Force:5.4089\n",
      "Pulsar_(Marvel_Comics):5.4180\n",
      "Punchout_(comics):5.3305\n",
      "Raa_of_the_Caves:5.3500\n",
      "Rakkus:5.3720\n",
      "Ramonda_(comics):5.4200\n",
      "Royal_Roy:5.5639\n",
      "Scarlet_Scarab:5.3663\n",
      "Shriker:5.3767\n",
      "Sirocco_(comics):5.4390\n",
      "Bling!:5.3631\n",
      "Cable_&_Deadpool:5.4762\n",
      "Captain_Savage_and_his_Leatherneck_Raiders:5.3454\n",
      "Rockman_(comics)+Captain_Wonder_(Timely_Comics)+Phantom_Reporter:5.4539\n",
      "Crazy_Gang_(comics):5.3757\n",
      "Dirtnap_(comics):5.3548\n",
      "Ectokid:5.4594\n",
      "Fixx_(Marvel_comics):5.3830\n",
      "Flashfire_(comics):5.4289\n",
      "Foxbat_(comics):5.3547\n",
      "Gorgolla:5.3431\n",
      "Joan_(comics):5.4439\n",
      "Skinner_(comics):5.4420\n",
      "Skyhawk_(comics):5.4697\n",
      "Sligguth:5.3248\n",
      "Solarman:5.4996\n",
      "Spoilsport_(comics):5.3548\n",
      "Spyder_(comics):5.4363\n",
      "Stained_Glass_Scarlet:5.3309\n",
      "Starr_the_Slayer:5.3656\n",
      "Tarzan_in_comics:5.5774\n",
      "Tazza_(comics):5.4387\n"
     ]
    }
   ],
   "source": [
    "sentiment_community = {}\n",
    "\n",
    "for commu in community_dict.keys():\n",
    "    senti_sum = 0\n",
    "    node_list = community_dict[commu]\n",
    "    for n in node_list:\n",
    "        senti_sum += sentiment_dict[n]\n",
    "    number_of_nodes = len(node_list)\n",
    "    avg_senti = senti_sum/number_of_nodes\n",
    "    sentiment_community[str(commu)] = avg_senti\n",
    "\n",
    "print('the average sentiment in each community:\\n')\n",
    "for commu in sentiment_community:\n",
    "    print('{}:{:.4f}'.format(commu,sentiment_community[commu]))"
   ]
  },
  {
   "cell_type": "markdown",
   "metadata": {},
   "source": [
    "> - What are the three happiest communities?\n",
    "> - what are the three saddest communities?"
   ]
  },
  {
   "cell_type": "code",
   "execution_count": 77,
   "metadata": {},
   "outputs": [
    {
     "name": "stdout",
     "output_type": "stream",
     "text": [
      "three happiest communities:[('Tarzan_in_comics', 5.577416637416639), ('Royal_Roy', 5.56388111888112), ('Wraith', 5.499852398523983)]\n",
      "three saddest communities:[('Kiber_the_Cruel', 5.228852459016395), ('Lurking_Unknown', 5.227692307692308), ('Alternative_versions_of_Doctor_Strange', 5.093333333333334)]\n"
     ]
    }
   ],
   "source": [
    "sentiment_community_sorted = sorted(sentiment_community.items(),key= lambda kv:kv[1],reverse=True)\n",
    "print('three happiest communities:{}'.format(sentiment_community_sorted[:3]))\n",
    "print('three saddest communities:{}'.format(sentiment_community_sorted[-3:]))"
   ]
  },
  {
   "cell_type": "code",
   "execution_count": 80,
   "metadata": {},
   "outputs": [
    {
     "name": "stdout",
     "output_type": "stream",
     "text": [
      "three happiest communities(excluded the communities only have one node):[('Outlaw_Kid+Rawhide_Kid+Kid_Colt', 5.493720574694758), ('Rockman_(comics)+Captain_Wonder_(Timely_Comics)+Phantom_Reporter', 5.453897978550775), ('Sasquatch_(comics)+Vindicator_(comics)+Shaman_(comics)', 5.389420505039874)]\n",
      "three saddest communities(excluded the communities only have one node):[('Hulk+Doctor_Strange+Silver_Surfer', 5.374674207377415), ('Wolverine_(character)+Professor_X+Cyclops_(Marvel_Comics)', 5.370608442669538), ('Spider-Man+Doctor_Octopus+Daredevil_(Marvel_Comics_character)', 5.348918382463619)]\n"
     ]
    }
   ],
   "source": [
    "# remove the communityies which only have one node\n",
    "sentiment_community_sorted_morethanone = [(n,v) for (n,v) in sentiment_community_sorted if len(n.split('+'))>1]\n",
    "print('three happiest communities(excluded the communities only have one node):{}'.format(sentiment_community_sorted_morethanone[:3]))\n",
    "print('three saddest communities(excluded the communities only have one node):{}'.format(sentiment_community_sorted_morethanone[-3:]))"
   ]
  },
  {
   "cell_type": "markdown",
   "metadata": {},
   "source": [
    "> Do these results confirm what you can learn about each community by skimming the wikipedia pages?"
   ]
  },
  {
   "cell_type": "markdown",
   "metadata": {},
   "source": [
    "**Answer:**  \n",
    "可能需要去看一下wiki page"
   ]
  },
  {
   "cell_type": "code",
   "execution_count": null,
   "metadata": {},
   "outputs": [],
   "source": []
  }
 ],
 "metadata": {
  "kernelspec": {
   "display_name": "Python 3",
   "language": "python",
   "name": "python3"
  },
  "language_info": {
   "codemirror_mode": {
    "name": "ipython",
    "version": 3
   },
   "file_extension": ".py",
   "mimetype": "text/x-python",
   "name": "python",
   "nbconvert_exporter": "python",
   "pygments_lexer": "ipython3",
   "version": "3.7.3"
  }
 },
 "nbformat": 4,
 "nbformat_minor": 4
}
